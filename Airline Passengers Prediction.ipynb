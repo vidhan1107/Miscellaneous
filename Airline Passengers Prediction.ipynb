{
 "cells": [
  {
   "cell_type": "code",
   "execution_count": 1,
   "metadata": {},
   "outputs": [],
   "source": [
    "import numpy as np\n",
    "import pandas as pd\n",
    "import matplotlib.pyplot as plt"
   ]
  },
  {
   "cell_type": "code",
   "execution_count": 2,
   "metadata": {},
   "outputs": [],
   "source": [
    "data = pd.read_csv('international-airline-passengers.csv')"
   ]
  },
  {
   "cell_type": "code",
   "execution_count": 3,
   "metadata": {},
   "outputs": [
    {
     "data": {
      "text/html": [
       "<div>\n",
       "<style scoped>\n",
       "    .dataframe tbody tr th:only-of-type {\n",
       "        vertical-align: middle;\n",
       "    }\n",
       "\n",
       "    .dataframe tbody tr th {\n",
       "        vertical-align: top;\n",
       "    }\n",
       "\n",
       "    .dataframe thead th {\n",
       "        text-align: right;\n",
       "    }\n",
       "</style>\n",
       "<table border=\"1\" class=\"dataframe\">\n",
       "  <thead>\n",
       "    <tr style=\"text-align: right;\">\n",
       "      <th></th>\n",
       "      <th>Month</th>\n",
       "      <th>International airline passengers: monthly totals in thousands. Jan 49 ? Dec 60</th>\n",
       "    </tr>\n",
       "  </thead>\n",
       "  <tbody>\n",
       "    <tr>\n",
       "      <th>0</th>\n",
       "      <td>1949-01</td>\n",
       "      <td>112.0</td>\n",
       "    </tr>\n",
       "    <tr>\n",
       "      <th>1</th>\n",
       "      <td>1949-02</td>\n",
       "      <td>118.0</td>\n",
       "    </tr>\n",
       "    <tr>\n",
       "      <th>2</th>\n",
       "      <td>1949-03</td>\n",
       "      <td>132.0</td>\n",
       "    </tr>\n",
       "    <tr>\n",
       "      <th>3</th>\n",
       "      <td>1949-04</td>\n",
       "      <td>129.0</td>\n",
       "    </tr>\n",
       "    <tr>\n",
       "      <th>4</th>\n",
       "      <td>1949-05</td>\n",
       "      <td>121.0</td>\n",
       "    </tr>\n",
       "  </tbody>\n",
       "</table>\n",
       "</div>"
      ],
      "text/plain": [
       "     Month  International airline passengers: monthly totals in thousands. Jan 49 ? Dec 60\n",
       "0  1949-01                                              112.0                             \n",
       "1  1949-02                                              118.0                             \n",
       "2  1949-03                                              132.0                             \n",
       "3  1949-04                                              129.0                             \n",
       "4  1949-05                                              121.0                             "
      ]
     },
     "execution_count": 3,
     "metadata": {},
     "output_type": "execute_result"
    }
   ],
   "source": [
    "data.head()"
   ]
  },
  {
   "cell_type": "code",
   "execution_count": 4,
   "metadata": {},
   "outputs": [
    {
     "data": {
      "text/html": [
       "<div>\n",
       "<style scoped>\n",
       "    .dataframe tbody tr th:only-of-type {\n",
       "        vertical-align: middle;\n",
       "    }\n",
       "\n",
       "    .dataframe tbody tr th {\n",
       "        vertical-align: top;\n",
       "    }\n",
       "\n",
       "    .dataframe thead th {\n",
       "        text-align: right;\n",
       "    }\n",
       "</style>\n",
       "<table border=\"1\" class=\"dataframe\">\n",
       "  <thead>\n",
       "    <tr style=\"text-align: right;\">\n",
       "      <th></th>\n",
       "      <th>Month</th>\n",
       "      <th>Passengers</th>\n",
       "    </tr>\n",
       "  </thead>\n",
       "  <tbody>\n",
       "    <tr>\n",
       "      <th>0</th>\n",
       "      <td>1949-01</td>\n",
       "      <td>112.0</td>\n",
       "    </tr>\n",
       "    <tr>\n",
       "      <th>1</th>\n",
       "      <td>1949-02</td>\n",
       "      <td>118.0</td>\n",
       "    </tr>\n",
       "    <tr>\n",
       "      <th>2</th>\n",
       "      <td>1949-03</td>\n",
       "      <td>132.0</td>\n",
       "    </tr>\n",
       "    <tr>\n",
       "      <th>3</th>\n",
       "      <td>1949-04</td>\n",
       "      <td>129.0</td>\n",
       "    </tr>\n",
       "    <tr>\n",
       "      <th>4</th>\n",
       "      <td>1949-05</td>\n",
       "      <td>121.0</td>\n",
       "    </tr>\n",
       "  </tbody>\n",
       "</table>\n",
       "</div>"
      ],
      "text/plain": [
       "     Month  Passengers\n",
       "0  1949-01       112.0\n",
       "1  1949-02       118.0\n",
       "2  1949-03       132.0\n",
       "3  1949-04       129.0\n",
       "4  1949-05       121.0"
      ]
     },
     "execution_count": 4,
     "metadata": {},
     "output_type": "execute_result"
    }
   ],
   "source": [
    "# data.columns = ['Month', 'Passengers']\n",
    "# data.head()\n",
    "data.rename(columns={'International airline passengers: monthly totals in thousands. Jan 49 ? Dec 60' : 'Passengers'}, inplace=True)\n",
    "data.head()"
   ]
  },
  {
   "cell_type": "code",
   "execution_count": 32,
   "metadata": {},
   "outputs": [
    {
     "name": "stdout",
     "output_type": "stream",
     "text": [
      "   International airline passengers: monthly totals in thousands. Jan 49 ? Dec 60\n",
      "0                                              112.0                             \n",
      "1                                              118.0                             \n",
      "2                                              132.0                             \n",
      "3                                              129.0                             \n",
      "4                                              121.0                             \n"
     ]
    },
    {
     "data": {
      "image/png": "[encoded data removed]",
      "text/plain": [
       "<Figure size 432x288 with 1 Axes>"
      ]
     },
     "metadata": {
      "needs_background": "light"
     },
     "output_type": "display_data"
    }
   ],
   "source": [
    "dataset = pd.read_csv('international-airline-passengers.csv', usecols=[1])\n",
    "print(dataset.head())\n",
    "plt.plot(dataset)\n",
    "plt.show()"
   ]
  },
  {
   "cell_type": "code",
   "execution_count": 33,
   "metadata": {},
   "outputs": [],
   "source": [
    "dataset = dataset.values\n",
    "dataset = dataset.astype('float32')"
   ]
  },
  {
   "cell_type": "code",
   "execution_count": 34,
   "metadata": {},
   "outputs": [
    {
     "name": "stdout",
     "output_type": "stream",
     "text": [
      "train_size 97\n",
      "test_size 48\n",
      "97 48\n"
     ]
    }
   ],
   "source": [
    "# split into train and test sets\n",
    "train_size = int(len(dataset) * 0.67)\n",
    "print('train_size', train_size)\n",
    "test_size = len(dataset) - train_size\n",
    "print('test_size', test_size)\n",
    "train, test = dataset[0:train_size], dataset[train_size:len(dataset)]\n",
    "print(len(train), len(test))"
   ]
  },
  {
   "cell_type": "code",
   "execution_count": 35,
   "metadata": {},
   "outputs": [],
   "source": [
    "# print(dataset)"
   ]
  },
  {
   "cell_type": "code",
   "execution_count": 36,
   "metadata": {},
   "outputs": [],
   "source": [
    "# convert an array of values into a dataset matrix\n",
    "def create_dataset(dataset, look_back=1):\n",
    "    dataX, dataY = [], []\n",
    "    for i in range(len(dataset)-look_back-1):\n",
    "        a = dataset[i:(i+look_back), 0]\n",
    "        dataX.append(a)\n",
    "        dataY.append(dataset[i + look_back, 0])\n",
    "    return np.array(dataX), np.array(dataY)"
   ]
  },
  {
   "cell_type": "code",
   "execution_count": 37,
   "metadata": {},
   "outputs": [],
   "source": [
    "# reshape into X=t and Y=t+1\n",
    "look_back = 10\n",
    "trainX, trainY = create_dataset(train, look_back)\n",
    "testX, testY = create_dataset(test, look_back)"
   ]
  },
  {
   "cell_type": "code",
   "execution_count": 38,
   "metadata": {},
   "outputs": [],
   "source": [
    "import keras\n",
    "from keras.models import Sequential\n",
    "from keras.layers import Dense\n",
    "from sklearn.metrics import mean_squared_error"
   ]
  },
  {
   "cell_type": "code",
   "execution_count": 39,
   "metadata": {},
   "outputs": [
    {
     "data": {
      "text/plain": [
       "10"
      ]
     },
     "execution_count": 39,
     "metadata": {},
     "output_type": "execute_result"
    }
   ],
   "source": [
    "look_back"
   ]
  },
  {
   "cell_type": "code",
   "execution_count": 40,
   "metadata": {},
   "outputs": [
    {
     "name": "stderr",
     "output_type": "stream",
     "text": [
      "C:\\Users\\Admin\\Anaconda3\\envs\\tensorflow_env\\lib\\site-packages\\ipykernel_launcher.py:6: UserWarning: The `nb_epoch` argument in `fit` has been renamed `epochs`.\n",
      "  \n"
     ]
    },
    {
     "name": "stdout",
     "output_type": "stream",
     "text": [
      "Epoch 1/100\n",
      " - 0s - loss: 96952.2487\n",
      "Epoch 2/100\n",
      " - 0s - loss: 25067.1917\n",
      "Epoch 3/100\n",
      " - 0s - loss: 4210.6919\n",
      "Epoch 4/100\n",
      " - 0s - loss: 1437.1759\n",
      "Epoch 5/100\n",
      " - 0s - loss: 1342.4802\n",
      "Epoch 6/100\n",
      " - 0s - loss: 1334.5820\n",
      "Epoch 7/100\n",
      " - 0s - loss: 1301.8872\n",
      "Epoch 8/100\n",
      " - 0s - loss: 1305.4819\n",
      "Epoch 9/100\n",
      " - 0s - loss: 1296.8988\n",
      "Epoch 10/100\n",
      " - 0s - loss: 1281.3429\n",
      "Epoch 11/100\n",
      " - 0s - loss: 1264.7753\n",
      "Epoch 12/100\n",
      " - 0s - loss: 1279.2113\n",
      "Epoch 13/100\n",
      " - 0s - loss: 1281.7626\n",
      "Epoch 14/100\n",
      " - 0s - loss: 1241.1616\n",
      "Epoch 15/100\n",
      " - 0s - loss: 1231.3567\n",
      "Epoch 16/100\n",
      " - 0s - loss: 1251.4043\n",
      "Epoch 17/100\n",
      " - 0s - loss: 1213.0930\n",
      "Epoch 18/100\n",
      " - 0s - loss: 1210.6694\n",
      "Epoch 19/100\n",
      " - 0s - loss: 1213.3263\n",
      "Epoch 20/100\n",
      " - 0s - loss: 1192.6628\n",
      "Epoch 21/100\n",
      " - 0s - loss: 1165.2192\n",
      "Epoch 22/100\n",
      " - 0s - loss: 1181.1464\n",
      "Epoch 23/100\n",
      " - 0s - loss: 1158.2428\n",
      "Epoch 24/100\n",
      " - 0s - loss: 1165.3924\n",
      "Epoch 25/100\n",
      " - 0s - loss: 1165.7036\n",
      "Epoch 26/100\n",
      " - 0s - loss: 1124.4236\n",
      "Epoch 27/100\n",
      " - 0s - loss: 1116.1681\n",
      "Epoch 28/100\n",
      " - 0s - loss: 1111.8262\n",
      "Epoch 29/100\n",
      " - 0s - loss: 1105.7734\n",
      "Epoch 30/100\n",
      " - 0s - loss: 1085.6241\n",
      "Epoch 31/100\n",
      " - 0s - loss: 1083.5336\n",
      "Epoch 32/100\n",
      " - 0s - loss: 1081.9121\n",
      "Epoch 33/100\n",
      " - 0s - loss: 1081.1279\n",
      "Epoch 34/100\n",
      " - 0s - loss: 1125.1060\n",
      "Epoch 35/100\n",
      " - 0s - loss: 1019.2485\n",
      "Epoch 36/100\n",
      " - 0s - loss: 1035.9001\n",
      "Epoch 37/100\n",
      " - 0s - loss: 1020.2691\n",
      "Epoch 38/100\n",
      " - 0s - loss: 989.8517\n",
      "Epoch 39/100\n",
      " - 0s - loss: 992.3961\n",
      "Epoch 40/100\n",
      " - 0s - loss: 978.1360\n",
      "Epoch 41/100\n",
      " - 0s - loss: 957.2204\n",
      "Epoch 42/100\n",
      " - 0s - loss: 945.5129\n",
      "Epoch 43/100\n",
      " - 0s - loss: 932.0888\n",
      "Epoch 44/100\n",
      " - 0s - loss: 957.1240\n",
      "Epoch 45/100\n",
      " - 0s - loss: 965.6313\n",
      "Epoch 46/100\n",
      " - 0s - loss: 909.2150\n",
      "Epoch 47/100\n",
      " - 0s - loss: 897.2665\n",
      "Epoch 48/100\n",
      " - 0s - loss: 881.5582\n",
      "Epoch 49/100\n",
      " - 0s - loss: 895.0099\n",
      "Epoch 50/100\n",
      " - 0s - loss: 861.0335\n",
      "Epoch 51/100\n",
      " - 0s - loss: 874.6230\n",
      "Epoch 52/100\n",
      " - 0s - loss: 856.7846\n",
      "Epoch 53/100\n",
      " - 0s - loss: 838.0007\n",
      "Epoch 54/100\n",
      " - 0s - loss: 843.4900\n",
      "Epoch 55/100\n",
      " - 0s - loss: 818.7535\n",
      "Epoch 56/100\n",
      " - 0s - loss: 808.3577\n",
      "Epoch 57/100\n",
      " - 0s - loss: 805.8717\n",
      "Epoch 58/100\n",
      " - 0s - loss: 769.7987\n",
      "Epoch 59/100\n",
      " - 0s - loss: 787.3539\n",
      "Epoch 60/100\n",
      " - 0s - loss: 790.6177\n",
      "Epoch 61/100\n",
      " - 0s - loss: 789.3334\n",
      "Epoch 62/100\n",
      " - 0s - loss: 779.0244\n",
      "Epoch 63/100\n",
      " - 0s - loss: 748.9268\n",
      "Epoch 64/100\n",
      " - 0s - loss: 723.0777\n",
      "Epoch 65/100\n",
      " - 0s - loss: 755.0545\n",
      "Epoch 66/100\n",
      " - 0s - loss: 733.4675\n",
      "Epoch 67/100\n",
      " - 0s - loss: 727.4931\n",
      "Epoch 68/100\n",
      " - 0s - loss: 732.7146\n",
      "Epoch 69/100\n",
      " - 0s - loss: 703.3628\n",
      "Epoch 70/100\n",
      " - 0s - loss: 728.4408\n",
      "Epoch 71/100\n",
      " - 0s - loss: 715.4449\n",
      "Epoch 72/100\n",
      " - 0s - loss: 752.2844\n",
      "Epoch 73/100\n",
      " - 0s - loss: 679.7125\n",
      "Epoch 74/100\n",
      " - 0s - loss: 660.8461\n",
      "Epoch 75/100\n",
      " - 0s - loss: 682.0047\n",
      "Epoch 76/100\n",
      " - 0s - loss: 666.2545\n",
      "Epoch 77/100\n",
      " - 0s - loss: 681.9419\n",
      "Epoch 78/100\n",
      " - 0s - loss: 629.0256\n",
      "Epoch 79/100\n",
      " - 0s - loss: 659.7664\n",
      "Epoch 80/100\n",
      " - 0s - loss: 637.0331\n",
      "Epoch 81/100\n",
      " - 0s - loss: 689.8739\n",
      "Epoch 82/100\n",
      " - 0s - loss: 668.5237\n",
      "Epoch 83/100\n",
      " - 0s - loss: 631.0941\n",
      "Epoch 84/100\n",
      " - 0s - loss: 603.1327\n",
      "Epoch 85/100\n",
      " - 0s - loss: 615.7855\n",
      "Epoch 86/100\n",
      " - 0s - loss: 583.7075\n",
      "Epoch 87/100\n",
      " - 0s - loss: 593.9037\n",
      "Epoch 88/100\n",
      " - 0s - loss: 591.2049\n",
      "Epoch 89/100\n",
      " - 0s - loss: 595.3235\n",
      "Epoch 90/100\n",
      " - 0s - loss: 558.1301\n",
      "Epoch 91/100\n",
      " - 0s - loss: 600.1914\n",
      "Epoch 92/100\n",
      " - 0s - loss: 603.0436\n",
      "Epoch 93/100\n",
      " - 0s - loss: 561.7922\n",
      "Epoch 94/100\n",
      " - 0s - loss: 596.7457\n",
      "Epoch 95/100\n",
      " - 0s - loss: 540.7965\n",
      "Epoch 96/100\n",
      " - 0s - loss: 561.3568\n",
      "Epoch 97/100\n",
      " - 0s - loss: 553.2651\n",
      "Epoch 98/100\n",
      " - 0s - loss: 549.5783\n",
      "Epoch 99/100\n",
      " - 0s - loss: 594.0672\n",
      "Epoch 100/100\n",
      " - 0s - loss: 521.0338\n"
     ]
    },
    {
     "data": {
      "text/plain": [
       "<keras.callbacks.History at 0x195111d0b8>"
      ]
     },
     "execution_count": 40,
     "metadata": {},
     "output_type": "execute_result"
    }
   ],
   "source": [
    "# create and fit Multilayer Perceptron model\n",
    "model = Sequential()\n",
    "model.add(Dense(8, input_dim=look_back, activation= 'relu' ))\n",
    "model.add(Dense(1))\n",
    "model.compile(loss= 'mean_squared_error' , optimizer= 'adam' )\n",
    "model.fit(trainX, trainY, nb_epoch=100, batch_size=2, verbose=2)"
   ]
  },
  {
   "cell_type": "code",
   "execution_count": 41,
   "metadata": {},
   "outputs": [
    {
     "name": "stdout",
     "output_type": "stream",
     "text": [
      "Train Score: %.2f MSE (%.2f RMSE) (537.4919603924419, 23.18387285145521)\n",
      "Test Score: %.2f MSE (%.2f RMSE) (2276.080863334037, 47.70828925180651)\n"
     ]
    }
   ],
   "source": [
    "import math\n",
    "# Estimate model performance\n",
    "trainScore = model.evaluate(trainX, trainY, verbose=0)\n",
    "print( 'Train Score: %.2f MSE (%.2f RMSE)',  (trainScore, math.sqrt(trainScore)))\n",
    "testScore = model.evaluate(testX, testY, verbose=0)\n",
    "print( 'Test Score: %.2f MSE (%.2f RMSE)',  (testScore, math.sqrt(testScore)))"
   ]
  },
  {
   "cell_type": "code",
   "execution_count": 42,
   "metadata": {},
   "outputs": [
    {
     "data": {
      "image/png": "[encoded data removed]",
      "text/plain": [
       "<Figure size 432x288 with 1 Axes>"
      ]
     },
     "metadata": {
      "needs_background": "light"
     },
     "output_type": "display_data"
    }
   ],
   "source": [
    "# generate predictions for training\n",
    "trainPredict = model.predict(trainX)\n",
    "testPredict = model.predict(testX)\n",
    "# shift train predictions for plotting\n",
    "trainPredictPlot = np.empty_like(dataset)\n",
    "trainPredictPlot[:, :] = np.nan\n",
    "trainPredictPlot[look_back:len(trainPredict)+look_back, :] = trainPredict\n",
    "# shift test predictions for plotting\n",
    "testPredictPlot = np.empty_like(dataset)\n",
    "testPredictPlot[:, :] = np.nan\n",
    "testPredictPlot[len(trainPredict)+(look_back*2)+1:len(dataset)-1, :] = testPredict\n",
    "# plot baseline and predictions\n",
    "plt.plot(dataset)\n",
    "plt.plot(trainPredictPlot)\n",
    "plt.plot(testPredictPlot)\n",
    "plt.show()"
   ]
  },
  {
   "cell_type": "code",
   "execution_count": null,
   "metadata": {},
   "outputs": [],
   "source": []
  }
 ],
 "metadata": {
  "kernelspec": {
   "display_name": "Python 3",
   "language": "python",
   "name": "python3"
  },
  "language_info": {
   "codemirror_mode": {
    "name": "ipython",
    "version": 3
   },
   "file_extension": ".py",
   "mimetype": "text/x-python",
   "name": "python",
   "nbconvert_exporter": "python",
   "pygments_lexer": "ipython3",
   "version": "3.7.3"
  }
 },
 "nbformat": 4,
 "nbformat_minor": 2
}
