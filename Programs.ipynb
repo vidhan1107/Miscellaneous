{
 "cells": [
  {
   "cell_type": "code",
   "execution_count": 4,
   "metadata": {},
   "outputs": [
    {
     "name": "stdout",
     "output_type": "stream",
     "text": [
      "Palindrome\n",
      "765884865928\n",
      "765884866120\n"
     ]
    }
   ],
   "source": [
    "# 1. Palindrome\n",
    "\n",
    "str = \"Madam\"\n",
    "mystr = str.lower()\n",
    "revstr = reversed(mystr)\n",
    "\n",
    "if(list(mystr) == list(revstr)):\n",
    "    print(\"Palindrome\")\n",
    "else:\n",
    "    print(\"Not palindrome\")\n",
    "    \n",
    "    \n",
    "print(id(mystr))\n",
    "print(id(revstr))"
   ]
  },
  {
   "cell_type": "code",
   "execution_count": 17,
   "metadata": {},
   "outputs": [
    {
     "name": "stdout",
     "output_type": "stream",
     "text": [
      "alphabetic\n",
      "['a', 'a', 'b', 'c', 'e', 'h', 'i', 'l', 'p', 't']\n",
      "in\n",
      "['i', 'n']\n",
      "in\n",
      "['i', 'n']\n",
      "order\n",
      "['d', 'e', 'o', 'r', 'r']\n",
      "python\n",
      "['h', 'n', 'o', 'p', 't', 'y']\n",
      "sort\n",
      "['o', 'r', 's', 't']\n",
      "word\n",
      "['d', 'o', 'r', 'w']\n"
     ]
    }
   ],
   "source": [
    "# 2. Sort words in alphabetic order\n",
    "\n",
    "str = \" sort word in alphabetic order in python\"\n",
    "\n",
    "lstofwords = str.split()\n",
    "words = sorted(lstofwords)\n",
    "\n",
    "\n",
    "for word in words:\n",
    "    print(word)\n",
    "    lst = []\n",
    "    for char in word:        \n",
    "        lst.append(char)\n",
    "    print(sorted(lst))\n",
    "    "
   ]
  },
  {
   "cell_type": "code",
   "execution_count": 19,
   "metadata": {},
   "outputs": [
    {
     "data": {
      "text/plain": [
       "['__add__',\n",
       " '__class__',\n",
       " '__contains__',\n",
       " '__delattr__',\n",
       " '__delitem__',\n",
       " '__dir__',\n",
       " '__doc__',\n",
       " '__eq__',\n",
       " '__format__',\n",
       " '__ge__',\n",
       " '__getattribute__',\n",
       " '__getitem__',\n",
       " '__gt__',\n",
       " '__hash__',\n",
       " '__iadd__',\n",
       " '__imul__',\n",
       " '__init__',\n",
       " '__init_subclass__',\n",
       " '__iter__',\n",
       " '__le__',\n",
       " '__len__',\n",
       " '__lt__',\n",
       " '__mul__',\n",
       " '__ne__',\n",
       " '__new__',\n",
       " '__reduce__',\n",
       " '__reduce_ex__',\n",
       " '__repr__',\n",
       " '__reversed__',\n",
       " '__rmul__',\n",
       " '__setattr__',\n",
       " '__setitem__',\n",
       " '__sizeof__',\n",
       " '__str__',\n",
       " '__subclasshook__',\n",
       " 'append',\n",
       " 'clear',\n",
       " 'copy',\n",
       " 'count',\n",
       " 'extend',\n",
       " 'index',\n",
       " 'insert',\n",
       " 'pop',\n",
       " 'remove',\n",
       " 'reverse',\n",
       " 'sort']"
      ]
     },
     "execution_count": 19,
     "metadata": {},
     "output_type": "execute_result"
    }
   ],
   "source": [
    "lst = [1,2,3]\n",
    "dir(lst)"
   ]
  },
  {
   "cell_type": "code",
   "execution_count": 26,
   "metadata": {},
   "outputs": [
    {
     "name": "stdout",
     "output_type": "stream",
     "text": [
      "index 0 has a value 10\n",
      "index 1 has a value 30\n",
      "index 2 has a value 12\n",
      "index 3 has a value 15\n",
      "index 4 has a value 50\n",
      "index 5 has a value 25\n"
     ]
    }
   ],
   "source": [
    "lst = [10,30,12,15,50,25]\n",
    "for index, value in enumerate(lst):\n",
    "    print(\"index {0} has a value {1}\".format(index, value))"
   ]
  },
  {
   "cell_type": "code",
   "execution_count": 29,
   "metadata": {},
   "outputs": [
    {
     "name": "stdout",
     "output_type": "stream",
     "text": [
      "Factorial of 5 is 120\n"
     ]
    }
   ],
   "source": [
    "# Recursive function factorial\n",
    "\n",
    "def factorial(num):\n",
    "    return 1 if num ==1 else num*factorial(num-1) \n",
    "#     if num ==1:\n",
    "#         return 1 \n",
    "#     else:\n",
    "#         return num*factorial(num-1) \n",
    "    \n",
    "    \n",
    "number = 5\n",
    "print(\"Factorial of {0} is {1}\".format(number, factorial(number)))"
   ]
  },
  {
   "cell_type": "code",
   "execution_count": 35,
   "metadata": {},
   "outputs": [
    {
     "name": "stdout",
     "output_type": "stream",
     "text": [
      "0\n",
      "1\n",
      "1\n",
      "2\n",
      "3\n",
      "5\n",
      "8\n",
      "13\n",
      "21\n",
      "34\n"
     ]
    }
   ],
   "source": [
    "# Fibonnaci series\n",
    "def getFibonnaciSeries(num):\n",
    "    if num <=1:\n",
    "        return num\n",
    "    else:\n",
    "        return getFibonnaciSeries(num-1) + getFibonnaciSeries(num-2)\n",
    "    \n",
    "# numbers =10\n",
    "for i in range(10):\n",
    "    print(getFibonnaciSeries(i))"
   ]
  },
  {
   "cell_type": "code",
   "execution_count": null,
   "metadata": {},
   "outputs": [],
   "source": []
  }
 ],
 "metadata": {
  "kernelspec": {
   "display_name": "Python 3",
   "language": "python",
   "name": "python3"
  },
  "language_info": {
   "codemirror_mode": {
    "name": "ipython",
    "version": 3
   },
   "file_extension": ".py",
   "mimetype": "text/x-python",
   "name": "python",
   "nbconvert_exporter": "python",
   "pygments_lexer": "ipython3",
   "version": "3.7.0"
  }
 },
 "nbformat": 4,
 "nbformat_minor": 2
}
