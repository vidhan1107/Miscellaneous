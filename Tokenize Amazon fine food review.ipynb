{
 "cells": [
  {
   "cell_type": "code",
   "execution_count": 1,
   "metadata": {},
   "outputs": [],
   "source": [
    "import nltk\n",
    "import pandas as pd\n",
    "import sqlite3"
   ]
  },
  {
   "cell_type": "code",
   "execution_count": 2,
   "metadata": {},
   "outputs": [
    {
     "data": {
      "text/html": [
       "<div>\n",
       "<style scoped>\n",
       "    .dataframe tbody tr th:only-of-type {\n",
       "        vertical-align: middle;\n",
       "    }\n",
       "\n",
       "    .dataframe tbody tr th {\n",
       "        vertical-align: top;\n",
       "    }\n",
       "\n",
       "    .dataframe thead th {\n",
       "        text-align: right;\n",
       "    }\n",
       "</style>\n",
       "<table border=\"1\" class=\"dataframe\">\n",
       "  <thead>\n",
       "    <tr style=\"text-align: right;\">\n",
       "      <th></th>\n",
       "      <th>Id</th>\n",
       "      <th>ProductId</th>\n",
       "      <th>UserId</th>\n",
       "      <th>ProfileName</th>\n",
       "      <th>HelpfulnessNumerator</th>\n",
       "      <th>HelpfulnessDenominator</th>\n",
       "      <th>Score</th>\n",
       "      <th>Time</th>\n",
       "      <th>Summary</th>\n",
       "      <th>Text</th>\n",
       "    </tr>\n",
       "  </thead>\n",
       "  <tbody>\n",
       "    <tr>\n",
       "      <th>0</th>\n",
       "      <td>1</td>\n",
       "      <td>B001E4KFG0</td>\n",
       "      <td>A3SGXH7AUHU8GW</td>\n",
       "      <td>delmartian</td>\n",
       "      <td>1</td>\n",
       "      <td>1</td>\n",
       "      <td>5</td>\n",
       "      <td>1303862400</td>\n",
       "      <td>Good Quality Dog Food</td>\n",
       "      <td>I have bought several of the Vitality canned d...</td>\n",
       "    </tr>\n",
       "    <tr>\n",
       "      <th>1</th>\n",
       "      <td>2</td>\n",
       "      <td>B00813GRG4</td>\n",
       "      <td>A1D87F6ZCVE5NK</td>\n",
       "      <td>dll pa</td>\n",
       "      <td>0</td>\n",
       "      <td>0</td>\n",
       "      <td>1</td>\n",
       "      <td>1346976000</td>\n",
       "      <td>Not as Advertised</td>\n",
       "      <td>Product arrived labeled as Jumbo Salted Peanut...</td>\n",
       "    </tr>\n",
       "  </tbody>\n",
       "</table>\n",
       "</div>"
      ],
      "text/plain": [
       "   Id   ProductId          UserId ProfileName  HelpfulnessNumerator  \\\n",
       "0   1  B001E4KFG0  A3SGXH7AUHU8GW  delmartian                     1   \n",
       "1   2  B00813GRG4  A1D87F6ZCVE5NK      dll pa                     0   \n",
       "\n",
       "   HelpfulnessDenominator  Score        Time                Summary  \\\n",
       "0                       1      5  1303862400  Good Quality Dog Food   \n",
       "1                       0      1  1346976000      Not as Advertised   \n",
       "\n",
       "                                                Text  \n",
       "0  I have bought several of the Vitality canned d...  \n",
       "1  Product arrived labeled as Jumbo Salted Peanut...  "
      ]
     },
     "execution_count": 2,
     "metadata": {},
     "output_type": "execute_result"
    }
   ],
   "source": [
    "con = sqlite3.connect('database.sqlite')\n",
    "data = pd.read_sql_query('select * from Reviews WHERE Score != 3 LIMIT 10', con)\n",
    "data.head(2)"
   ]
  },
  {
   "cell_type": "code",
   "execution_count": 3,
   "metadata": {},
   "outputs": [],
   "source": [
    "from bs4 import BeautifulSoup\n",
    "from tqdm import tqdm\n",
    "import re"
   ]
  },
  {
   "cell_type": "code",
   "execution_count": 4,
   "metadata": {},
   "outputs": [],
   "source": [
    "from nltk.corpus import stopwords\n",
    "# nltk.download('english')\n",
    "from string import punctuation\n",
    "stopwords = set(stopwords.words('english') + list(punctuation))"
   ]
  },
  {
   "cell_type": "code",
   "execution_count": 5,
   "metadata": {},
   "outputs": [
    {
     "name": "stderr",
     "output_type": "stream",
     "text": [
      "100%|██████████████████████████████████████████| 10/10 [00:00<00:00, 86.64it/s]\n"
     ]
    },
    {
     "name": "stdout",
     "output_type": "stream",
     "text": [
      "bought several vitality canned dog food products found good quality product looks like stew processed meat smells better labrador finicky appreciates product betterproduct arrived labeled jumbo salted peanuts peanuts actually small sized unsalted sure error vendor intended represent product jumboconfection around centuries light pillowy citrus gelatin nuts case filberts cut tiny squares liberally coated powdered sugar tiny mouthful heaven chewy flavorful highly recommend yummy treat familiar story c lewis lion witch wardrobe treat seduces edmund selling brother sisters witchlooking secret ingredient robitussin believe found got addition root beer extract ordered good made cherry soda flavor medicinalgreat taffy great price wide assortment yummy taffy delivery quick taffy lover dealgot wild hair taffy ordered five pound bag taffy enjoyable many flavors watermelon root beer melon peppermint grape etc complaint bit much red black licorice flavored pieces particular favorites kids husband lasted two weeks would recommend brand taffy delightful treatsaltwater taffy great flavors soft chewy candy individually wrapped well none candies stuck together happen expensive version fralinger would highly recommend candy served beach themed party everyone lovedtaffy good soft chewy flavors amazing would definitely recommend buying satisfyingright mostly sprouting cats eat grass love rotate around wheatgrass ryehealthy dog food good digestion also good small puppies dog eats required amount every feeding\n"
     ]
    }
   ],
   "source": [
    "preprocessed_reviews = []\n",
    "a = ''\n",
    "for sent in tqdm(data['Text'].values):\n",
    "    sent = BeautifulSoup(sent, 'html.parser').get_text()\n",
    "    sent = re.sub(r\"http\\S+\",'',sent)\n",
    "    sent = re.sub(\"[^A-Za-z]+\", ' ', sent)\n",
    "    sent = ' '.join(token.lower() for token in nltk.word_tokenize(sent) if token.lower() not in stopwords)\n",
    "    a+= sent\n",
    "#     preprocessed_review.append(sent.strip())\n",
    "print(a)\n"
   ]
  },
  {
   "cell_type": "code",
   "execution_count": 6,
   "metadata": {},
   "outputs": [
    {
     "name": "stdout",
     "output_type": "stream",
     "text": [
      "['bought several vitality canned dog food products found good quality product looks like stew processed meat smells better labrador finicky appreciates product betterproduct arrived labeled jumbo salted peanuts peanuts actually small sized unsalted sure error vendor intended represent product jumboconfection around centuries light pillowy citrus gelatin nuts case filberts cut tiny squares liberally coated powdered sugar tiny mouthful heaven chewy flavorful highly recommend yummy treat familiar story c lewis lion witch wardrobe treat seduces edmund selling brother sisters witchlooking secret ingredient robitussin believe found got addition root beer extract ordered good made cherry soda flavor medicinalgreat taffy great price wide assortment yummy taffy delivery quick taffy lover dealgot wild hair taffy ordered five pound bag taffy enjoyable many flavors watermelon root beer melon peppermint grape etc complaint bit much red black licorice flavored pieces particular favorites kids husband lasted two weeks would recommend brand taffy delightful treatsaltwater taffy great flavors soft chewy candy individually wrapped well none candies stuck together happen expensive version fralinger would highly recommend candy served beach themed party everyone lovedtaffy good soft chewy flavors amazing would definitely recommend buying satisfyingright mostly sprouting cats eat grass love rotate around wheatgrass ryehealthy dog food good digestion also good small puppies dog eats required amount every feeding']\n",
      "['bought', 'several', 'vitality', 'canned', 'dog', 'food', 'products', 'found', 'good', 'quality', 'product', 'looks', 'like', 'stew', 'processed', 'meat', 'smells', 'better', 'labrador', 'finicky', 'appreciates', 'product', 'betterproduct', 'arrived', 'labeled', 'jumbo', 'salted', 'peanuts', 'peanuts', 'actually', 'small', 'sized', 'unsalted', 'sure', 'error', 'vendor', 'intended', 'represent', 'product', 'jumboconfection', 'around', 'centuries', 'light', 'pillowy', 'citrus', 'gelatin', 'nuts', 'case', 'filberts', 'cut', 'tiny', 'squares', 'liberally', 'coated', 'powdered', 'sugar', 'tiny', 'mouthful', 'heaven', 'chewy', 'flavorful', 'highly', 'recommend', 'yummy', 'treat', 'familiar', 'story', 'c', 'lewis', 'lion', 'witch', 'wardrobe', 'treat', 'seduces', 'edmund', 'selling', 'brother', 'sisters', 'witchlooking', 'secret', 'ingredient', 'robitussin', 'believe', 'found', 'got', 'addition', 'root', 'beer', 'extract', 'ordered', 'good', 'made', 'cherry', 'soda', 'flavor', 'medicinalgreat', 'taffy', 'great', 'price', 'wide', 'assortment', 'yummy', 'taffy', 'delivery', 'quick', 'taffy', 'lover', 'dealgot', 'wild', 'hair', 'taffy', 'ordered', 'five', 'pound', 'bag', 'taffy', 'enjoyable', 'many', 'flavors', 'watermelon', 'root', 'beer', 'melon', 'peppermint', 'grape', 'etc', 'complaint', 'bit', 'much', 'red', 'black', 'licorice', 'flavored', 'pieces', 'particular', 'favorites', 'kids', 'husband', 'lasted', 'two', 'weeks', 'would', 'recommend', 'brand', 'taffy', 'delightful', 'treatsaltwater', 'taffy', 'great', 'flavors', 'soft', 'chewy', 'candy', 'individually', 'wrapped', 'well', 'none', 'candies', 'stuck', 'together', 'happen', 'expensive', 'version', 'fralinger', 'would', 'highly', 'recommend', 'candy', 'served', 'beach', 'themed', 'party', 'everyone', 'lovedtaffy', 'good', 'soft', 'chewy', 'flavors', 'amazing', 'would', 'definitely', 'recommend', 'buying', 'satisfyingright', 'mostly', 'sprouting', 'cats', 'eat', 'grass', 'love', 'rotate', 'around', 'wheatgrass', 'ryehealthy', 'dog', 'food', 'good', 'digestion', 'also', 'good', 'small', 'puppies', 'dog', 'eats', 'required', 'amount', 'every', 'feeding']\n"
     ]
    },
    {
     "data": {
      "text/plain": [
       "FreqDist({'taffy': 7, 'good': 5, 'recommend': 4, 'dog': 3, 'product': 3, 'chewy': 3, 'flavors': 3, 'would': 3, 'food': 2, 'found': 2, ...})"
      ]
     },
     "execution_count": 6,
     "metadata": {},
     "output_type": "execute_result"
    }
   ],
   "source": [
    "from nltk.probability import FreqDist\n",
    "text = \"Hello how are you. lets go back\"\n",
    "sent = nltk.sent_tokenize(a)\n",
    "print(sent)\n",
    "\n",
    "word = nltk.word_tokenize(a)\n",
    "print(word)\n",
    "\n",
    "freq = FreqDist(word)\n",
    "freq"
   ]
  },
  {
   "cell_type": "code",
   "execution_count": 7,
   "metadata": {},
   "outputs": [
    {
     "data": {
      "text/plain": [
       "['taffy',\n",
       " 'good',\n",
       " 'recommend',\n",
       " 'dog',\n",
       " 'product',\n",
       " 'chewy',\n",
       " 'flavors',\n",
       " 'would',\n",
       " 'food',\n",
       " 'found']"
      ]
     },
     "execution_count": 7,
     "metadata": {},
     "output_type": "execute_result"
    }
   ],
   "source": [
    "from heapq import nlargest\n",
    "nlargest(10, freq, key=freq.get)"
   ]
  },
  {
   "cell_type": "code",
   "execution_count": 8,
   "metadata": {},
   "outputs": [],
   "source": [
    "# lamnatization and stemming\n",
    "# send mail for EY nishanth.N@in.ey.com"
   ]
  },
  {
   "cell_type": "code",
   "execution_count": 21,
   "metadata": {},
   "outputs": [
    {
     "name": "stdout",
     "output_type": "stream",
     "text": [
      "bought\n",
      "sever\n",
      "vital\n",
      "can\n",
      "dog\n",
      "food\n",
      "product\n",
      "found\n",
      "good\n",
      "qualiti\n",
      "product\n",
      "look\n",
      "like\n",
      "stew\n",
      "process\n",
      "meat\n",
      "smell\n",
      "better\n",
      "labrador\n",
      "finicki\n",
      "appreci\n",
      "product\n",
      "betterproduct\n",
      "arriv\n",
      "label\n",
      "jumbo\n",
      "salt\n",
      "peanut\n",
      "peanut\n",
      "actual\n",
      "small\n",
      "size\n",
      "unsalt\n",
      "sure\n",
      "error\n",
      "vendor\n",
      "intend\n",
      "repres\n",
      "product\n",
      "jumboconfect\n",
      "around\n",
      "centuri\n",
      "light\n",
      "pillowi\n",
      "citru\n",
      "gelatin\n",
      "nut\n",
      "case\n",
      "filbert\n",
      "cut\n",
      "tini\n",
      "squar\n",
      "liber\n",
      "coat\n",
      "powder\n",
      "sugar\n",
      "tini\n",
      "mouth\n",
      "heaven\n",
      "chewi\n",
      "flavor\n",
      "highli\n",
      "recommend\n",
      "yummi\n",
      "treat\n",
      "familiar\n",
      "stori\n",
      "c\n",
      "lewi\n",
      "lion\n",
      "witch\n",
      "wardrob\n",
      "treat\n",
      "seduc\n",
      "edmund\n",
      "sell\n",
      "brother\n",
      "sister\n",
      "witchlook\n",
      "secret\n",
      "ingredi\n",
      "robitussin\n",
      "believ\n",
      "found\n",
      "got\n",
      "addit\n",
      "root\n",
      "beer\n",
      "extract\n",
      "order\n",
      "good\n",
      "made\n",
      "cherri\n",
      "soda\n",
      "flavor\n",
      "medicinalgreat\n",
      "taffi\n",
      "great\n",
      "price\n",
      "wide\n",
      "assort\n",
      "yummi\n",
      "taffi\n",
      "deliveri\n",
      "quick\n",
      "taffi\n",
      "lover\n",
      "dealgot\n",
      "wild\n",
      "hair\n",
      "taffi\n",
      "order\n",
      "five\n",
      "pound\n",
      "bag\n",
      "taffi\n",
      "enjoy\n",
      "mani\n",
      "flavor\n",
      "watermelon\n",
      "root\n",
      "beer\n",
      "melon\n",
      "peppermint\n",
      "grape\n",
      "etc\n",
      "complaint\n",
      "bit\n",
      "much\n",
      "red\n",
      "black\n",
      "licoric\n",
      "flavor\n",
      "piec\n",
      "particular\n",
      "favorit\n",
      "kid\n",
      "husband\n",
      "last\n",
      "two\n",
      "week\n",
      "would\n",
      "recommend\n",
      "brand\n",
      "taffi\n",
      "delight\n",
      "treatsaltwat\n",
      "taffi\n",
      "great\n",
      "flavor\n",
      "soft\n",
      "chewi\n",
      "candi\n",
      "individu\n",
      "wrap\n",
      "well\n",
      "none\n",
      "candi\n",
      "stuck\n",
      "togeth\n",
      "happen\n",
      "expens\n",
      "version\n",
      "fraling\n",
      "would\n",
      "highli\n",
      "recommend\n",
      "candi\n",
      "serv\n",
      "beach\n",
      "theme\n",
      "parti\n",
      "everyon\n",
      "lovedtaffi\n",
      "good\n",
      "soft\n",
      "chewi\n",
      "flavor\n",
      "amaz\n",
      "would\n",
      "definit\n",
      "recommend\n",
      "buy\n",
      "satisfyingright\n",
      "mostli\n",
      "sprout\n",
      "cat\n",
      "eat\n",
      "grass\n",
      "love\n",
      "rotat\n",
      "around\n",
      "wheatgrass\n",
      "ryehealthi\n",
      "dog\n",
      "food\n",
      "good\n",
      "digest\n",
      "also\n",
      "good\n",
      "small\n",
      "puppi\n",
      "dog\n",
      "eat\n",
      "requir\n",
      "amount\n",
      "everi\n",
      "feed\n"
     ]
    }
   ],
   "source": [
    "from nltk.stem import PorterStemmer\n",
    "\n",
    "porter = PorterStemmer()\n",
    "# print(word)\n",
    "for w in word:\n",
    "    print(porter.stem(w))"
   ]
  },
  {
   "cell_type": "code",
   "execution_count": 26,
   "metadata": {},
   "outputs": [
    {
     "name": "stdout",
     "output_type": "stream",
     "text": [
      "bought sever vital can dog food product found good qualiti product look like stew process meat smell better labrador finicki appreci product betterproduct arriv label jumbo salt peanut peanut actual small size unsalt sure error vendor intend repres product jumboconfect around centuri light pillowi citru gelatin nut case filbert cut tini squar liber coat powder sugar tini mouth heaven chewi flavor highli recommend yummi treat familiar stori c lewi lion witch wardrob treat seduc edmund sell\n"
     ]
    }
   ],
   "source": [
    "string = \"bought several vitality canned dog food products found good quality product looks like stew processed meat smells \\\n",
    "better labrador finicky appreciates product betterproduct arrived labeled jumbo salted peanuts peanuts actually small sized \\\n",
    "unsalted sure error vendor intended represent product jumboconfection around centuries light pillowy citrus gelatin nuts case \\\n",
    "filberts cut tiny squares liberally coated powdered sugar tiny mouthful heaven chewy flavorful highly recommend yummy treat \\\n",
    "familiar story c lewis lion witch wardrobe treat seduces edmund selling\"\n",
    "\n",
    "from nltk.stem import PorterStemmer\n",
    "from nltk.tokenize import word_tokenize, sent_tokenize\n",
    "\n",
    "porter = PorterStemmer()\n",
    "\n",
    "def stemming(string):\n",
    "    word_tok = word_tokenize(string)\n",
    "    sent = []\n",
    "    for w in word_tok:\n",
    "        sent.append(porter.stem(w))   \n",
    "    return \" \".join(sent)\n",
    "\n",
    "stemeddata = stemming(string)\n",
    "print(stemeddata)"
   ]
  },
  {
   "cell_type": "code",
   "execution_count": 27,
   "metadata": {},
   "outputs": [],
   "source": [
    "import io"
   ]
  },
  {
   "cell_type": "code",
   "execution_count": 39,
   "metadata": {},
   "outputs": [],
   "source": [
    "f = open('Data.txt', mode='r')\n",
    "# f.seek(0)"
   ]
  },
  {
   "cell_type": "code",
   "execution_count": 40,
   "metadata": {},
   "outputs": [
    {
     "name": "stdout",
     "output_type": "stream",
     "text": [
      "Hello Vidhan\n",
      "\n",
      "bought several vitality canned dog food products found good quality product looks like stew processed meat smells better labrador finicky appreciates product betterproduct arrived labeled jumbo salted peanuts peanuts actually small sized unsalted sure error vendor intended represent product jumboconfection around centuries light pillowy citrus gelatin nuts case filberts cut tiny squares liberally coated powdered sugar tiny mouthful heaven chewy flavorful highly recommend yummy treat familiar story c lewis lion witch wardrobe treat seduces edmund selling brother sisters witchlooking secret ingredient robitussin believe found got addition root beer extract ordered good made cherry soda flavor medicinalgreat taffy great price wide assortment yummy taffy delivery quick taffy lover dealgot wild hair taffy ordered five pound bag taffy enjoyable many flavors watermelon root beer melon peppermint grape etc complaint bit much red black licorice flavored pieces particular favorites kids husband lasted two weeks would recommend brand taffy delightful treatsaltwater taffy great flavors soft chewy candy individually wrapped well none candies stuck together happen expensive version fralinger would highly recommend candy served beach themed party everyone lovedtaffy good soft chewy flavors amazing would definitely recommend buying satisfyingright mostly sprouting cats eat grass love rotate around wheatgrass ryehealthy dog food good digestion also good small puppies dog eats required amount every feeding\n"
     ]
    }
   ],
   "source": [
    "for line in f:\n",
    "    print(line)"
   ]
  },
  {
   "cell_type": "code",
   "execution_count": 42,
   "metadata": {},
   "outputs": [
    {
     "name": "stdout",
     "output_type": "stream",
     "text": [
      "[nltk_data] Downloading package wordnet to\n",
      "[nltk_data]     C:\\Users\\Admin\\AppData\\Roaming\\nltk_data...\n",
      "[nltk_data]   Unzipping corpora\\wordnet.zip.\n"
     ]
    },
    {
     "data": {
      "text/plain": [
       "True"
      ]
     },
     "execution_count": 42,
     "metadata": {},
     "output_type": "execute_result"
    }
   ],
   "source": [
    "import nltk\n",
    "nltk.download('wordnet')"
   ]
  },
  {
   "cell_type": "code",
   "execution_count": 51,
   "metadata": {},
   "outputs": [
    {
     "name": "stdout",
     "output_type": "stream",
     "text": [
      "Word                Lemma\n",
      "bought              buy\n",
      "several             several\n",
      "vitality            vitality\n",
      "canned              can\n",
      "dog                 dog\n",
      "food                food\n",
      "products            products\n",
      "found               find\n",
      "good                good\n",
      "quality             quality\n",
      "product             product\n",
      "looks               look\n",
      "like                like\n",
      "stew                stew\n",
      "processed           process\n",
      "meat                meat\n",
      "smells              smell\n",
      "better              better\n",
      "labrador            labrador\n",
      "finicky             finicky\n",
      "appreciates         appreciate\n",
      "product             product\n",
      "betterproduct       betterproduct\n",
      "arrived             arrive\n",
      "labeled             label\n",
      "jumbo               jumbo\n",
      "salted              salt\n",
      "peanuts             peanuts\n",
      "peanuts             peanuts\n",
      "actually            actually\n",
      "small               small\n",
      "sized               size\n",
      "unsalted            unsalted\n",
      "sure                sure\n",
      "error               error\n",
      "vendor              vendor\n",
      "intended            intend\n",
      "represent           represent\n",
      "product             product\n",
      "jumboconfection     jumboconfection\n",
      "around              around\n",
      "centuries           centuries\n",
      "light               light\n",
      "pillowy             pillowy\n",
      "citrus              citrus\n",
      "gelatin             gelatin\n",
      "nuts                nut\n",
      "case                case\n",
      "filberts            filberts\n",
      "cut                 cut\n",
      "tiny                tiny\n",
      "squares             square\n",
      "liberally           liberally\n",
      "coated              coat\n",
      "powdered            powder\n",
      "sugar               sugar\n",
      "tiny                tiny\n",
      "mouthful            mouthful\n",
      "heaven              heaven\n",
      "chewy               chewy\n",
      "flavorful           flavorful\n",
      "highly              highly\n",
      "recommend           recommend\n",
      "yummy               yummy\n",
      "treat               treat\n",
      "familiar            familiar\n",
      "story               story\n",
      "c                   c\n",
      "lewis               lewis\n",
      "lion                lion\n",
      "witch               witch\n",
      "wardrobe            wardrobe\n",
      "treat               treat\n",
      "seduces             seduce\n",
      "edmund              edmund\n",
      "selling             sell\n",
      "bought several vitality canned dog food product found good quality product look like stew processed meat smell better labrador finicky appreciates product betterproduct arrived labeled jumbo salted peanut peanut actually small sized unsalted sure error vendor intended represent product jumboconfection around century light pillowy citrus gelatin nut case filbert cut tiny square liberally coated powdered sugar tiny mouthful heaven chewy flavorful highly recommend yummy treat familiar story c lewis lion witch wardrobe treat seduces edmund selling\n"
     ]
    }
   ],
   "source": [
    "from nltk.stem import WordNetLemmatizer\n",
    "\n",
    "lemmatizer = WordNetLemmatizer()\n",
    "\n",
    "string = \"bought several vitality canned dog food products found good quality product looks like stew processed meat smells \\\n",
    "better labrador finicky appreciates product betterproduct arrived labeled jumbo salted peanuts peanuts actually small sized \\\n",
    "unsalted sure error vendor intended represent product jumboconfection around centuries light pillowy citrus gelatin nuts case \\\n",
    "filberts cut tiny squares liberally coated powdered sugar tiny mouthful heaven chewy flavorful highly recommend yummy treat \\\n",
    "familiar story c lewis lion witch wardrobe treat seduces edmund selling\"\n",
    "\n",
    "def stemming(string):\n",
    "    word_tok = word_tokenize(string)\n",
    "    print(\"{0:20}{1}\".format('Word', 'Lemma'))\n",
    "    sent = []\n",
    "    for w in word_tok:\n",
    "        sent.append(lemmatizer.lemmatize(w))   \n",
    "        print(\"{0:20}{1}\".format(w, lemmatizer.lemmatize(w, pos='v')))\n",
    "    return \" \".join(sent)\n",
    "\n",
    "stemeddata = stemming(string)\n",
    "print(stemeddata)"
   ]
  },
  {
   "cell_type": "code",
   "execution_count": null,
   "metadata": {},
   "outputs": [],
   "source": []
  }
 ],
 "metadata": {
  "kernelspec": {
   "display_name": "Python 3",
   "language": "python",
   "name": "python3"
  },
  "language_info": {
   "codemirror_mode": {
    "name": "ipython",
    "version": 3
   },
   "file_extension": ".py",
   "mimetype": "text/x-python",
   "name": "python",
   "nbconvert_exporter": "python",
   "pygments_lexer": "ipython3",
   "version": "3.7.0"
  }
 },
 "nbformat": 4,
 "nbformat_minor": 2
}
